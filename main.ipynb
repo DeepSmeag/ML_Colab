{
  "nbformat": 4,
  "nbformat_minor": 0,
  "metadata": {
    "colab": {
      "name": "Untitled0.ipynb",
      "provenance": [],
      "authorship_tag": "ABX9TyOh8GanOu1IBET5LMp2zbN4",
      "include_colab_link": true
    },
    "kernelspec": {
      "name": "python3",
      "display_name": "Python 3"
    },
    "language_info": {
      "name": "python"
    }
  },
  "cells": [
    {
      "cell_type": "markdown",
      "metadata": {
        "id": "view-in-github",
        "colab_type": "text"
      },
      "source": [
        "<a href=\"https://colab.research.google.com/github/DeepSmeag/ML_Colab/blob/main/main.ipynb\" target=\"_parent\"><img src=\"https://colab.research.google.com/assets/colab-badge.svg\" alt=\"Open In Colab\"/></a>"
      ]
    },
    {
      "cell_type": "markdown",
      "metadata": {
        "id": "LZrldnhcBBDN"
      },
      "source": [
        "First time we will implement a simple AND gate using a small neural network, the legandary perceptron"
      ]
    },
    {
      "cell_type": "code",
      "metadata": {
        "id": "I68R5KSI8_6_"
      },
      "source": [
        "def read_file(file_path):\n",
        "  with open(file_path) as f:\n",
        "    lines = f.readlines()\n",
        "    for line in lines:\n",
        "      print(line)"
      ],
      "execution_count": null,
      "outputs": []
    }
  ]
}