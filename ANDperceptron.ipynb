{
  "nbformat": 4,
  "nbformat_minor": 0,
  "metadata": {
    "colab": {
      "name": "main.ipynb",
      "provenance": [],
      "collapsed_sections": [],
      "authorship_tag": "ABX9TyNiP2y4Bg3/BPVqWlO6SM8T",
      "include_colab_link": true
    },
    "kernelspec": {
      "name": "python3",
      "display_name": "Python 3"
    },
    "language_info": {
      "name": "python"
    }
  },
  "cells": [
    {
      "cell_type": "markdown",
      "metadata": {
        "id": "view-in-github",
        "colab_type": "text"
      },
      "source": [
        "<a href=\"https://colab.research.google.com/github/DeepSmeag/ML_Colab/blob/main/ANDperceptron.ipynb\" target=\"_parent\"><img src=\"https://colab.research.google.com/assets/colab-badge.svg\" alt=\"Open In Colab\"/></a>"
      ]
    },
    {
      "cell_type": "code",
      "metadata": {
        "id": "8TdtQNoACTeZ",
        "colab": {
          "base_uri": "https://localhost:8080/"
        },
        "outputId": "c2943268-9295-477f-e811-11db1fe0a005"
      },
      "source": [
        "!git clone https://github.com/DeepSmeag/ML_Colab"
      ],
      "execution_count": null,
      "outputs": [
        {
          "output_type": "stream",
          "text": [
            "Cloning into 'ML_Colab'...\n",
            "remote: Enumerating objects: 30, done.\u001b[K\n",
            "remote: Counting objects: 100% (30/30), done.\u001b[K\n",
            "remote: Compressing objects: 100% (27/27), done.\u001b[K\n",
            "remote: Total 30 (delta 9), reused 0 (delta 0), pack-reused 0\u001b[K\n",
            "Unpacking objects: 100% (30/30), done.\n"
          ],
          "name": "stdout"
        }
      ]
    },
    {
      "cell_type": "markdown",
      "metadata": {
        "id": "LZrldnhcBBDN"
      },
      "source": [
        "First time we will implement a simple AND gate using a small neural network, the legandary perceptron"
      ]
    },
    {
      "cell_type": "code",
      "metadata": {
        "id": "I68R5KSI8_6_"
      },
      "source": [
        "def read_file(file_path):\n",
        "  dataset=[]\n",
        "  with open(file_path, 'r') as f:\n",
        "    lines = f.readlines()\n",
        "    for line in lines:\n",
        "      line = line.strip()\n",
        "      parts = line.split(',')\n",
        "      x0,x1,y = float(parts[0]), float(parts[1]), float(parts[2])\n",
        "      dataset.append((x0,x1,y))\n",
        "    return dataset\n",
        "\n",
        "dataset = read_file('ML_Colab/datasetAND.csv')"
      ],
      "execution_count": null,
      "outputs": []
    },
    {
      "cell_type": "markdown",
      "metadata": {
        "id": "t6XzcCKEFTPe"
      },
      "source": [
        "We now have a read-from-file function and we have this simple model with inputs and outputs (columns 1,2 - in ; column 3 - out)\n",
        "So now we create the train function\n",
        "But first, keeping this block as an import function dump\n"
      ]
    },
    {
      "cell_type": "code",
      "metadata": {
        "id": "fCRKj7qVFc0U"
      },
      "source": [
        "import random\n"
      ],
      "execution_count": null,
      "outputs": []
    },
    {
      "cell_type": "markdown",
      "metadata": {
        "id": "4cAiVJ9gJiIg"
      },
      "source": [
        "Now we create the train function, along with the feed_forward function that \"predicts\" the outcome and all the necessary auxiliaries\n",
        "\n"
      ]
    },
    {
      "cell_type": "code",
      "metadata": {
        "colab": {
          "base_uri": "https://localhost:8080/"
        },
        "id": "ut6x2Gi8JZ5v",
        "outputId": "d78d8a63-1b0a-4725-e3f3-93eef93943d7"
      },
      "source": [
        "def activation_func(a):\n",
        "  return a\n",
        "def test_activation(a):\n",
        "  if a >=0.5:\n",
        "    return 1\n",
        "  return 0\n",
        "def derivative(a):\n",
        "  return 1\n",
        "def compute_deltas(learning_rate, err, x0, x1, derivative):\n",
        "  dw0 = learning_rate * err * derivative(err) * x0\n",
        "  dw1 = learning_rate * err * derivative(err) * x1\n",
        "  db = learning_rate * err * derivative(err) * 1\n",
        "  return [dw0, dw1, db]\n",
        "\n",
        "def backprop_errors(perceptron, deltas):\n",
        "  for i in range(len(perceptron)):\n",
        "    perceptron[i] += deltas[i]\n",
        "\n",
        "def feed_forward(x0, x1, perceptron, activation_func):\n",
        "  w0 = perceptron[0]\n",
        "  w1 = perceptron[1]\n",
        "  b = perceptron[2]\n",
        "  a = x0*w0 + x1*w1 + b \n",
        "  return activation_func(a)\n",
        "\n",
        "\n",
        "def train_perceptron(dataset, epochs, learning_rate):\n",
        "  w0 = random.random()\n",
        "  w1 = random.random()\n",
        "  b = random.random()\n",
        "  perceptron = [w0,w1,b]\n",
        "\n",
        "  for i in range(epochs):\n",
        "    for train_instance in dataset:\n",
        "      x0,x1,y = train_instance\n",
        "      o = feed_forward(x0, x1, perceptron, activation_func)\n",
        "      err = y - o\n",
        "      deltas = compute_deltas(learning_rate, err, x0, x1, derivative)\n",
        "      backprop_errors(perceptron, deltas)\n",
        "  return perceptron\n",
        "\n",
        "perceptron = train_perceptron(dataset,300,0.007)\n",
        "print(perceptron)\n",
        "print(\"------------------------------------------------------\")"
      ],
      "execution_count": 33,
      "outputs": [
        {
          "output_type": "stream",
          "text": [
            "[0.5002687316751093, 0.501971559069864, -0.24993982314524185]\n",
            "------------------------------------------------------\n"
          ],
          "name": "stdout"
        }
      ]
    },
    {
      "cell_type": "markdown",
      "metadata": {
        "id": "14l538nzlXgV"
      },
      "source": [
        "This is a test\n"
      ]
    },
    {
      "cell_type": "code",
      "metadata": {
        "id": "TBRxMes_8PKL",
        "outputId": "0f177732-033f-4108-9598-9365e00d69cb",
        "colab": {
          "base_uri": "https://localhost:8080/"
        }
      },
      "source": [
        "def test_perceptron(dataset, perceptron):\n",
        "    for data_instance in dataset:\n",
        "        x0 = data_instance[0]\n",
        "        x1 = data_instance[1]\n",
        "        y = data_instance[2]\n",
        "\n",
        "        o = feed_forward(x0,x1,perceptron, f)\n",
        "        out = test_activation(o)\n",
        "        print(str(x0) + ' ' + str(x1) + ' ' + str(y) + ' - ' + str(out))\n",
        "\n",
        "\n",
        "test_perceptron(dataset, perceptron)"
      ],
      "execution_count": 34,
      "outputs": [
        {
          "output_type": "stream",
          "text": [
            "0.0 0.0 0.0 - 0\n",
            "1.0 0.0 0.0 - 0\n",
            "0.0 1.0 0.0 - 0\n",
            "1.0 1.0 1.0 - 1\n",
            "0.0 0.0 0.0 - 0\n",
            "1.0 0.0 0.0 - 0\n",
            "0.0 1.0 0.0 - 0\n",
            "1.0 1.0 1.0 - 1\n",
            "0.0 0.0 0.0 - 0\n",
            "1.0 0.0 0.0 - 0\n",
            "0.0 1.0 0.0 - 0\n",
            "1.0 1.0 1.0 - 1\n",
            "0.0 0.0 0.0 - 0\n",
            "1.0 0.0 0.0 - 0\n",
            "0.0 1.0 0.0 - 0\n",
            "1.0 1.0 1.0 - 1\n"
          ],
          "name": "stdout"
        }
      ]
    }
  ]
}